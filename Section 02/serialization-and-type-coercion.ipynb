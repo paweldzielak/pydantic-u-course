{
 "cells": [
  {
   "cell_type": "code",
   "id": "initial_id",
   "metadata": {
    "collapsed": true,
    "ExecuteTime": {
     "end_time": "2025-03-16T16:54:09.023459Z",
     "start_time": "2025-03-16T16:54:08.947666Z"
    }
   },
   "source": [
    "from pydantic import BaseModel, ValidationError\n",
    "\n",
    "class Person(BaseModel):\n",
    "    first_name: str\n",
    "    last_name: str\n",
    "    age: int"
   ],
   "outputs": [],
   "execution_count": 1
  },
  {
   "metadata": {
    "ExecuteTime": {
     "end_time": "2025-03-16T16:54:42.987265Z",
     "start_time": "2025-03-16T16:54:42.980883Z"
    }
   },
   "cell_type": "code",
   "source": [
    "p = Person(first_name='pawel', last_name='dbk', age=21)\n",
    "galois = Person(first_name='Evariste', last_name='Galois', age=20)\n",
    "newton = Person(first_name='Isaac', last_name='Newton', age=84)\n",
    "newton.__dict__"
   ],
   "id": "607aa424df45d5b0",
   "outputs": [
    {
     "data": {
      "text/plain": [
       "{'first_name': 'Isaac', 'last_name': 'Newton', 'age': 84}"
      ]
     },
     "execution_count": 2,
     "metadata": {},
     "output_type": "execute_result"
    }
   ],
   "execution_count": 2
  },
  {
   "metadata": {
    "ExecuteTime": {
     "end_time": "2025-03-16T16:56:48.499045Z",
     "start_time": "2025-03-16T16:56:48.494416Z"
    }
   },
   "cell_type": "code",
   "source": [
    "# serialization methods:\n",
    "galois.model_dump() # dict"
   ],
   "id": "29abbf73834516f",
   "outputs": [
    {
     "data": {
      "text/plain": [
       "{'first_name': 'Evariste', 'last_name': 'Galois', 'age': 20}"
      ]
     },
     "execution_count": 3,
     "metadata": {},
     "output_type": "execute_result"
    }
   ],
   "execution_count": 3
  },
  {
   "metadata": {
    "ExecuteTime": {
     "end_time": "2025-03-16T16:57:09.216997Z",
     "start_time": "2025-03-16T16:57:09.213346Z"
    }
   },
   "cell_type": "code",
   "source": "newton.model_dump_json() # string",
   "id": "3b9101d335affb0e",
   "outputs": [
    {
     "data": {
      "text/plain": [
       "'{\"first_name\":\"Isaac\",\"last_name\":\"Newton\",\"age\":84}'"
      ]
     },
     "execution_count": 4,
     "metadata": {},
     "output_type": "execute_result"
    }
   ],
   "execution_count": 4
  },
  {
   "metadata": {
    "ExecuteTime": {
     "end_time": "2025-03-16T17:04:46.357408Z",
     "start_time": "2025-03-16T17:04:46.354266Z"
    }
   },
   "cell_type": "code",
   "source": [
    "class Coordinates(BaseModel):\n",
    "    x: float\n",
    "    y: float"
   ],
   "id": "50694d95f5817d57",
   "outputs": [],
   "execution_count": 6
  },
  {
   "metadata": {
    "ExecuteTime": {
     "end_time": "2025-03-16T17:04:47.169322Z",
     "start_time": "2025-03-16T17:04:47.164996Z"
    }
   },
   "cell_type": "code",
   "source": [
    "point = Coordinates(x=1.1, y=2.2)\n",
    "point"
   ],
   "id": "e37ae88011fd6832",
   "outputs": [
    {
     "data": {
      "text/plain": [
       "Coordinates(x=1.1, y=2.2)"
      ]
     },
     "execution_count": 7,
     "metadata": {},
     "output_type": "execute_result"
    }
   ],
   "execution_count": 7
  },
  {
   "metadata": {
    "ExecuteTime": {
     "end_time": "2025-03-16T17:05:02.512176Z",
     "start_time": "2025-03-16T17:05:02.507966Z"
    }
   },
   "cell_type": "code",
   "source": "Coordinates.model_fields",
   "id": "433c4914d0b21e13",
   "outputs": [
    {
     "data": {
      "text/plain": [
       "{'x': FieldInfo(annotation=float, required=True),\n",
       " 'y': FieldInfo(annotation=float, required=True)}"
      ]
     },
     "execution_count": 8,
     "metadata": {},
     "output_type": "execute_result"
    }
   ],
   "execution_count": 8
  }
 ],
 "metadata": {
  "kernelspec": {
   "display_name": "Python 3",
   "language": "python",
   "name": "python3"
  },
  "language_info": {
   "codemirror_mode": {
    "name": "ipython",
    "version": 2
   },
   "file_extension": ".py",
   "mimetype": "text/x-python",
   "name": "python",
   "nbconvert_exporter": "python",
   "pygments_lexer": "ipython2",
   "version": "2.7.6"
  }
 },
 "nbformat": 4,
 "nbformat_minor": 5
}
