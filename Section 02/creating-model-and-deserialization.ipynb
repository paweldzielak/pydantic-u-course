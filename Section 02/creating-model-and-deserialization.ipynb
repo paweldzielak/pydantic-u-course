{
 "cells": [
  {
   "cell_type": "code",
   "id": "initial_id",
   "metadata": {
    "collapsed": true,
    "ExecuteTime": {
     "end_time": "2025-03-16T16:47:04.427088Z",
     "start_time": "2025-03-16T16:47:04.423365Z"
    }
   },
   "source": [
    "from pydantic import BaseModel, ValidationError\n",
    "\n",
    "class Person(BaseModel):\n",
    "    first_name: str\n",
    "    last_name: str\n",
    "    age: int"
   ],
   "outputs": [],
   "execution_count": 5
  },
  {
   "metadata": {
    "ExecuteTime": {
     "end_time": "2025-03-16T16:44:16.844339Z",
     "start_time": "2025-03-16T16:44:16.840562Z"
    }
   },
   "cell_type": "code",
   "source": "p = Person(first_name='pawel', last_name='dbk', age=21)",
   "id": "3742caa63ec50717",
   "outputs": [],
   "execution_count": 2
  },
  {
   "metadata": {
    "ExecuteTime": {
     "end_time": "2025-03-16T16:44:18.117571Z",
     "start_time": "2025-03-16T16:44:18.112133Z"
    }
   },
   "cell_type": "code",
   "source": "repr(p), str(p)",
   "id": "4526cdc8ff9edb55",
   "outputs": [
    {
     "data": {
      "text/plain": [
       "(\"Person(first_name='pawel', last_name='dbk', age=21)\",\n",
       " \"first_name='pawel' last_name='dbk' age=21\")"
      ]
     },
     "execution_count": 3,
     "metadata": {},
     "output_type": "execute_result"
    }
   ],
   "execution_count": 3
  },
  {
   "metadata": {
    "ExecuteTime": {
     "end_time": "2025-03-16T16:51:58.881095Z",
     "start_time": "2025-03-16T16:51:58.877294Z"
    }
   },
   "cell_type": "code",
   "source": [
    "# first:\n",
    "p1 = Person(first_name='Isaac', last_name='Newton', age=84)\n",
    "\n",
    "# second:\n",
    "data = {\n",
    "    \"first_name\": \"Isaac\",\n",
    "    \"last_name\": \"Newton\",\n",
    "    \"age\": 84\n",
    "}\n",
    "p2 = Person(**data)\n",
    "\n",
    "# third:\n",
    "p3 = Person.model_validate(data)\n",
    "\n",
    "# forth:\n",
    "missing_data_json = '''\n",
    "{\n",
    "    \"last_name\": \"Newton\",\n",
    "}\n",
    "'''\n",
    "try:\n",
    "    Person.model_validate_json(missing_data_json)\n",
    "except ValidationError as ex:\n",
    "    print(ex)\n",
    "\n"
   ],
   "id": "4d81b7c66ed8e22e",
   "outputs": [
    {
     "name": "stdout",
     "output_type": "stream",
     "text": [
      "1 validation error for Person\n",
      "  Invalid JSON: trailing comma at line 4 column 1 [type=json_invalid, input_value='\\n{\\n    \"last_name\": \"Newton\",\\n}\\n', input_type=str]\n",
      "    For further information visit https://errors.pydantic.dev/2.10/v/json_invalid\n"
     ]
    }
   ],
   "execution_count": 9
  },
  {
   "metadata": {
    "ExecuteTime": {
     "end_time": "2025-03-16T16:47:48.057552Z",
     "start_time": "2025-03-16T16:47:48.053799Z"
    }
   },
   "cell_type": "code",
   "source": [
    "missing_data = {\"last_name\": \"Newton\"}\n",
    "\n",
    "try:\n",
    "    Person.model_validate(missing_data)\n",
    "except ValidationError as e:\n",
    "    print(e)\n",
    "\n"
   ],
   "id": "fc4309579f36720d",
   "outputs": [
    {
     "name": "stdout",
     "output_type": "stream",
     "text": [
      "2 validation errors for Person\n",
      "first_name\n",
      "  Field required [type=missing, input_value={'last_name': 'Newton'}, input_type=dict]\n",
      "    For further information visit https://errors.pydantic.dev/2.10/v/missing\n",
      "age\n",
      "  Field required [type=missing, input_value={'last_name': 'Newton'}, input_type=dict]\n",
      "    For further information visit https://errors.pydantic.dev/2.10/v/missing\n"
     ]
    }
   ],
   "execution_count": 8
  }
 ],
 "metadata": {
  "kernelspec": {
   "display_name": "Python 3",
   "language": "python",
   "name": "python3"
  },
  "language_info": {
   "codemirror_mode": {
    "name": "ipython",
    "version": 2
   },
   "file_extension": ".py",
   "mimetype": "text/x-python",
   "name": "python",
   "nbconvert_exporter": "python",
   "pygments_lexer": "ipython2",
   "version": "2.7.6"
  }
 },
 "nbformat": 4,
 "nbformat_minor": 5
}
