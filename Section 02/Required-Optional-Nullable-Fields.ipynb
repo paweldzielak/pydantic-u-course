{
 "cells": [
  {
   "cell_type": "code",
   "id": "initial_id",
   "metadata": {
    "collapsed": true,
    "ExecuteTime": {
     "end_time": "2025-03-16T17:17:09.945716Z",
     "start_time": "2025-03-16T17:17:09.886941Z"
    }
   },
   "source": [
    "from pydantic import BaseModel\n",
    "\n",
    "# required and optional:\n",
    "class Circle(BaseModel):\n",
    "    center: tuple[int, int] = (0, 0)    # optional\n",
    "    radius: int                         # required\n",
    "\n",
    "c1 = Circle(radius=5)\n",
    "c1"
   ],
   "outputs": [
    {
     "data": {
      "text/plain": [
       "Circle(center=(0, 0), radius=5)"
      ]
     },
     "execution_count": 1,
     "metadata": {},
     "output_type": "execute_result"
    }
   ],
   "execution_count": 1
  },
  {
   "metadata": {
    "ExecuteTime": {
     "end_time": "2025-03-16T17:28:43.608571Z",
     "start_time": "2025-03-16T17:28:43.603110Z"
    }
   },
   "cell_type": "code",
   "source": [
    "# nullable:\n",
    "class Model(BaseModel):\n",
    "    field: int | None\n",
    "\n",
    "m1 = Model(field=None)\n",
    "m1 # Model(field=None)\n",
    "\n",
    "# nullable and optional:\n",
    "class Model(BaseModel):\n",
    "    field: int | None = None\n",
    "\n",
    "m2 = Model()\n",
    "m2 # Model(field=None)"
   ],
   "id": "29a2c6e6d6856531",
   "outputs": [
    {
     "data": {
      "text/plain": [
       "Model(field=None)"
      ]
     },
     "execution_count": 4,
     "metadata": {},
     "output_type": "execute_result"
    }
   ],
   "execution_count": 4
  }
 ],
 "metadata": {
  "kernelspec": {
   "display_name": "Python 3",
   "language": "python",
   "name": "python3"
  },
  "language_info": {
   "codemirror_mode": {
    "name": "ipython",
    "version": 2
   },
   "file_extension": ".py",
   "mimetype": "text/x-python",
   "name": "python",
   "nbconvert_exporter": "python",
   "pygments_lexer": "ipython2",
   "version": "2.7.6"
  }
 },
 "nbformat": 4,
 "nbformat_minor": 5
}
