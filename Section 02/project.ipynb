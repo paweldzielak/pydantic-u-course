{
 "cells": [
  {
   "cell_type": "code",
   "id": "initial_id",
   "metadata": {
    "collapsed": true,
    "ExecuteTime": {
     "end_time": "2025-03-16T20:43:02.241005Z",
     "start_time": "2025-03-16T20:43:02.186460Z"
    }
   },
   "source": [
    "from datetime import date\n",
    "from pydantic import BaseModel\n",
    "\n",
    "class Automobile(BaseModel):\n",
    "    manufacturer: str                           # string, required, not nullable\n",
    "    series_name: str                            # string, required, not nullable\n",
    "    type_: str                                  # string, required, not nullable\n",
    "    is_electric: bool = False                   # boolean, defaults to False, not nullable\n",
    "    manufactured_date: date                     # date, required (hint use date from datetime module as your field type hint), not nullable\n",
    "    base_msrp_usd: float                        # float, required, not nullable\n",
    "    vin: str                                    # string, required, not nullable\n",
    "    number_of_doors: int = 4                    # integer, defaults to 4, not nullable\n",
    "    registration_country: str | None = None     # string, defaults to None\n",
    "    license_plate: str | None = None            # string, defaults to None\n"
   ],
   "outputs": [],
   "execution_count": 1
  },
  {
   "metadata": {
    "ExecuteTime": {
     "end_time": "2025-03-16T20:44:14.233008Z",
     "start_time": "2025-03-16T20:44:14.228850Z"
    }
   },
   "cell_type": "code",
   "source": [
    "# Python dictionary\n",
    "from datetime import date\n",
    "\n",
    "data = {\n",
    "    \"manufacturer\": \"BMW\",\n",
    "    \"series_name\": \"M4\",\n",
    "    \"type_\": \"Convertible\",\n",
    "    \"is_electric\": False,\n",
    "    \"manufactured_date\": \"2023-01-01\",\n",
    "    \"base_msrp_usd\": 93_300,\n",
    "    \"vin\": \"1234567890\",\n",
    "    \"number_of_doors\": 2,\n",
    "    \"registration_country\": \"France\",\n",
    "    \"license_plate\": \"AAA-BBB\",\n",
    "}\n",
    "\n",
    "data_expected_serialization = {\n",
    "    'manufacturer': 'BMW',\n",
    "    'series_name': 'M4',\n",
    "    'type_': 'Convertible',\n",
    "    'is_electric': False,\n",
    "    'manufactured_date': date(2023,1,1),\n",
    "    'base_msrp_usd': 93_300,\n",
    "    'vin': '1234567890',\n",
    "    'number_of_doors': 2,\n",
    "    'registration_country': 'France',\n",
    "    'license_plate': 'AAA-BBB',\n",
    "}"
   ],
   "id": "a0941d6836677acc",
   "outputs": [],
   "execution_count": 3
  },
  {
   "metadata": {
    "ExecuteTime": {
     "end_time": "2025-03-16T20:50:21.512175Z",
     "start_time": "2025-03-16T20:50:21.507108Z"
    }
   },
   "cell_type": "code",
   "source": [
    "# test1:\n",
    "a1 = Automobile(**data)\n",
    "a2 = Automobile(**data_expected_serialization)\n",
    "\n",
    "a1 == a2 and a2.model_dump() == data_expected_serialization"
   ],
   "id": "db0bc97b3a0225a7",
   "outputs": [
    {
     "data": {
      "text/plain": [
       "True"
      ]
     },
     "execution_count": 11,
     "metadata": {},
     "output_type": "execute_result"
    }
   ],
   "execution_count": 11
  },
  {
   "metadata": {
    "ExecuteTime": {
     "end_time": "2025-03-16T20:52:13.173972Z",
     "start_time": "2025-03-16T20:52:13.169688Z"
    }
   },
   "cell_type": "code",
   "source": [
    "# JSON\n",
    "data_json = '''\n",
    "{\n",
    "    \"manufacturer\": \"BMW\",\n",
    "    \"series_name\": \"M4\",\n",
    "    \"type_\": \"Convertible\",\n",
    "    \"manufactured_date\": \"2023-01-01\",\n",
    "    \"base_msrp_usd\": 93300,\n",
    "    \"vin\": \"1234567890\"\n",
    "}\n",
    "'''\n",
    "\n",
    "data_json_expected_serialization = {\n",
    "    'manufacturer': 'BMW',\n",
    "    'series_name': 'M4',\n",
    "    'type_': 'Convertible',\n",
    "    'is_electric': False,\n",
    "    'manufactured_date': date(2023, 1, 1),\n",
    "    'base_msrp_usd': 93_300,\n",
    "    'vin': '1234567890',\n",
    "    'number_of_doors': 4,\n",
    "    'registration_country': None,\n",
    "    'license_plate': None,\n",
    "}\n",
    "\n",
    "a3 = Automobile.model_validate_json(data_json)\n",
    "a4 = Automobile.model_validate(data_json_expected_serialization)\n",
    "\n",
    "a3 == a4"
   ],
   "id": "6c0f4f6e8251d6b5",
   "outputs": [
    {
     "data": {
      "text/plain": [
       "True"
      ]
     },
     "execution_count": 12,
     "metadata": {},
     "output_type": "execute_result"
    }
   ],
   "execution_count": 12
  }
 ],
 "metadata": {
  "kernelspec": {
   "display_name": "Python 3",
   "language": "python",
   "name": "python3"
  },
  "language_info": {
   "codemirror_mode": {
    "name": "ipython",
    "version": 2
   },
   "file_extension": ".py",
   "mimetype": "text/x-python",
   "name": "python",
   "nbconvert_exporter": "python",
   "pygments_lexer": "ipython2",
   "version": "2.7.6"
  }
 },
 "nbformat": 4,
 "nbformat_minor": 5
}
